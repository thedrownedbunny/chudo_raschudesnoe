{
 "cells": [
  {
   "cell_type": "code",
   "execution_count": 1,
   "metadata": {},
   "outputs": [],
   "source": [
    "from selenium import webdriver as wd\n",
    "import pandas as pd"
   ]
  },
  {
   "cell_type": "code",
   "execution_count": 60,
   "metadata": {},
   "outputs": [],
   "source": [
    "web = wd.Chrome(r'C:\\Users\\bendr\\Documents\\chrdr\\chromedriver.exe')\n",
    "link = 'https://govdata360.worldbank.org/indicators/h580f9aa5?country=BRA&indicator=388&viz=line_chart&years=1996,2019#table-link'\n",
    "web.get(link)\n",
    "web.switch_to.alert.accept()"
   ]
  },
  {
   "cell_type": "code",
   "execution_count": 53,
   "metadata": {},
   "outputs": [
    {
     "name": "stdout",
     "output_type": "stream",
     "text": [
      "I'm done parcing!\n"
     ]
    }
   ],
   "source": [
    "countries = []\n",
    "index_2019 = []\n",
    "year = []\n",
    "for i in range(1,4):\n",
    "    num = 0\n",
    "    for_it = 1\n",
    "    while num != 41:\n",
    "        cun = BeautifulSoup(web.page_source).find_all('td')[::5]\n",
    "        index = BeautifulSoup(web.page_source).find_all('td')[i::5]\n",
    "        for cy, ind in zip(cun, index):\n",
    "            countries.append(cy.get_text())\n",
    "            index_2019.append(ind.get_text())\n",
    "            if i == 1:\n",
    "                year.append(2017)\n",
    "            elif i == 2:\n",
    "                year.append(2018)\n",
    "            elif i == 3:\n",
    "                year.append(2019)\n",
    "        num += 1\n",
    "        if num <= 4:\n",
    "            web.find_element_by_css_selector(f'#DataTables_Table_0_paginate > span > a:nth-child({num+1})').click()\n",
    "        elif num > 4 and num <= 38:\n",
    "            web.find_element_by_css_selector('#DataTables_Table_0_paginate > span > a:nth-child(5)').click()\n",
    "        elif num > 38 and num != 41:\n",
    "            web.find_element_by_css_selector(f'#DataTables_Table_0_paginate > span > a:nth-child({5+for_it})').click()\n",
    "            for_it += 1\n",
    "    web.find_element_by_css_selector('#DataTables_Table_0_paginate > span > a:nth-child(1)').click()\n",
    "\n",
    "print(\"I'm done parcing\")"
   ]
  },
  {
   "cell_type": "code",
   "execution_count": 63,
   "metadata": {},
   "outputs": [
    {
     "data": {
      "text/html": [
       "<div>\n",
       "<style scoped>\n",
       "    .dataframe tbody tr th:only-of-type {\n",
       "        vertical-align: middle;\n",
       "    }\n",
       "\n",
       "    .dataframe tbody tr th {\n",
       "        vertical-align: top;\n",
       "    }\n",
       "\n",
       "    .dataframe thead th {\n",
       "        text-align: right;\n",
       "    }\n",
       "</style>\n",
       "<table border=\"1\" class=\"dataframe\">\n",
       "  <thead>\n",
       "    <tr style=\"text-align: right;\">\n",
       "      <th></th>\n",
       "      <th>Year</th>\n",
       "      <th>Government Effectivness Index</th>\n",
       "    </tr>\n",
       "  </thead>\n",
       "  <tbody>\n",
       "    <tr>\n",
       "      <th>Brazil</th>\n",
       "      <td>2017</td>\n",
       "      <td>-0.29</td>\n",
       "    </tr>\n",
       "    <tr>\n",
       "      <th>Afghanistan</th>\n",
       "      <td>2017</td>\n",
       "      <td>-1.33</td>\n",
       "    </tr>\n",
       "    <tr>\n",
       "      <th>Albania</th>\n",
       "      <td>2017</td>\n",
       "      <td>0.08</td>\n",
       "    </tr>\n",
       "    <tr>\n",
       "      <th>Algeria</th>\n",
       "      <td>2017</td>\n",
       "      <td>-0.59</td>\n",
       "    </tr>\n",
       "    <tr>\n",
       "      <th>American Samoa</th>\n",
       "      <td>2017</td>\n",
       "      <td>0.56</td>\n",
       "    </tr>\n",
       "    <tr>\n",
       "      <th>...</th>\n",
       "      <td>...</td>\n",
       "      <td>...</td>\n",
       "    </tr>\n",
       "    <tr>\n",
       "      <th>Virgin Islands (U.S.)</th>\n",
       "      <td>2019</td>\n",
       "      <td>0.82</td>\n",
       "    </tr>\n",
       "    <tr>\n",
       "      <th>West Bank and Gaza</th>\n",
       "      <td>2019</td>\n",
       "      <td>-0.74</td>\n",
       "    </tr>\n",
       "    <tr>\n",
       "      <th>Yemen, Rep.</th>\n",
       "      <td>2019</td>\n",
       "      <td>-2.28</td>\n",
       "    </tr>\n",
       "    <tr>\n",
       "      <th>Zambia</th>\n",
       "      <td>2019</td>\n",
       "      <td>-0.68</td>\n",
       "    </tr>\n",
       "    <tr>\n",
       "      <th>Zimbabwe</th>\n",
       "      <td>2019</td>\n",
       "      <td>-1.21</td>\n",
       "    </tr>\n",
       "  </tbody>\n",
       "</table>\n",
       "<p>612 rows × 2 columns</p>\n",
       "</div>"
      ],
      "text/plain": [
       "                       Year Government Effectivness Index\n",
       "Brazil                 2017                         -0.29\n",
       "Afghanistan            2017                         -1.33\n",
       "Albania                2017                          0.08\n",
       "Algeria                2017                         -0.59\n",
       "American Samoa         2017                          0.56\n",
       "...                     ...                           ...\n",
       "Virgin Islands (U.S.)  2019                          0.82\n",
       "West Bank and Gaza     2019                         -0.74\n",
       "Yemen, Rep.            2019                         -2.28\n",
       "Zambia                 2019                         -0.68\n",
       "Zimbabwe               2019                         -1.21\n",
       "\n",
       "[612 rows x 2 columns]"
      ]
     },
     "metadata": {},
     "output_type": "display_data"
    }
   ],
   "source": [
    "government_effectivness = pd.DataFrame({'Year':year, 'Government Effectivness Index':index_2019}, index=countries)\n",
    "display(government_effectivness)"
   ]
  }
 ],
 "metadata": {
  "kernelspec": {
   "display_name": "Python 3",
   "language": "python",
   "name": "python3"
  },
  "language_info": {
   "codemirror_mode": {
    "name": "ipython",
    "version": 3
   },
   "file_extension": ".py",
   "mimetype": "text/x-python",
   "name": "python",
   "nbconvert_exporter": "python",
   "pygments_lexer": "ipython3",
   "version": "3.8.3"
  }
 },
 "nbformat": 4,
 "nbformat_minor": 4
}
