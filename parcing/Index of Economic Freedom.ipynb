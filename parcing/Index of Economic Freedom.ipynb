{
 "cells": [
  {
   "cell_type": "code",
   "execution_count": 6,
   "metadata": {},
   "outputs": [],
   "source": [
    "from selenium import webdriver as wd\n",
    "from bs4 import BeautifulSoup\n",
    "import pandas as pd\n",
    "import os.path\n",
    "import time\n",
    "\n",
    "# создаю пустые списки, которые далее используются для создания финального датафрейма\n",
    "download_dir = input('Введите директорию для загрузки файлов. Туда сохранятся файлы, необходимые для работы программы, и финальная таблица.')\n",
    "options = wd.ChromeOptions()\n",
    "\n",
    "profile = {\"plugins.always_open_pdf_externally\": True,\n",
    "               \"download.default_directory\": download_dir , \"download.extensions_to_open\": \"applications/pdf\"}\n",
    "options.add_experimental_option(\"prefs\", profile)\n",
    "\n",
    "chrdr = input('Введите директорию, в которой хранится вебдрайвер')\n",
    "driver = wd.Chrome(chrdr, options=options)\n",
    "\n",
    "# скачиваю все необходимые файлы\n",
    "\n",
    "pdf_url = 'https://www.heritage.org/index/download?version=821#'\n",
    "driver.get(pdf_url)\n",
    "driver.find_element_by_css_selector('#show-older-editions').click()\n",
    "for i in [2,5,8]:\n",
    "    driver.find_element_by_css_selector(f'#older-editions > a:nth-child({i})').click()\n",
    "\n",
    "# циклом проверяю, закончилась ли загрузка последнего файла (за 2017 год)\n",
    "# если не закончилась, код после while не выполняется\n",
    "# если закончилась, создается список из всех скачанных датасетов \n",
    "# и закрывается окно браузера\n",
    "\n",
    "while not os.path.exists(download_dir+f'\\index2017_data.xls'):\n",
    "    time.sleep(1)\n",
    "if os.path.isfile(download_dir+f'\\index2017_data.xls'):\n",
    "    years = [2017,2018,2019]\n",
    "    all_datasets = {year:pd.read_excel(download_dir+f'\\index'+str(year)+'_data.xls') for year in years}\n",
    "    driver.quit()\n",
    "    \n",
    "countries = []\n",
    "index = []\n",
    "years2 = []\n",
    "for year, data in zip(years, all_datasets.values()):\n",
    "    for cun, ind in zip(data['Country Name'], data[f'{year} Score']):\n",
    "        countries.append(cun)\n",
    "        index.append(ind)\n",
    "        years2.append(year)\n",
    "        \n",
    "EFI = pd.DataFrame({'Year':years2, 'Index of Economic Freedom':index}, index=countries)"
   ]
  }
 ],
 "metadata": {
  "kernelspec": {
   "display_name": "Python 3",
   "language": "python",
   "name": "python3"
  },
  "language_info": {
   "codemirror_mode": {
    "name": "ipython",
    "version": 3
   },
   "file_extension": ".py",
   "mimetype": "text/x-python",
   "name": "python",
   "nbconvert_exporter": "python",
   "pygments_lexer": "ipython3",
   "version": "3.8.3"
  }
 },
 "nbformat": 4,
 "nbformat_minor": 4
}
