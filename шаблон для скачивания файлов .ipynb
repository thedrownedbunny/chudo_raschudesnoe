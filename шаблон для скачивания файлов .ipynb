{
 "cells": [
  {
   "cell_type": "code",
   "execution_count": null,
   "metadata": {},
   "outputs": [],
   "source": [
    "from selenium import webdriver as wd\n",
    "\n",
    "options = wd.ChromeOptions()\n",
    "download_dir = r'путь к папке для загрузки файлов'\n",
    "profile = {\"download.default_directory\": download_dir}\n",
    "options.add_experimental_option(\"prefs\", profile)\n",
    "\n",
    "chrdr = r'путь к драйверу'\n",
    "driver = wd.Chrome(chrdr, options=options)\n",
    "url = 'ссылка на сайт'\n",
    "driver.get(url)\n",
    "\n",
    "driver.find_element_by_css_selector('css селектор кнопки скачивания, скопированный из вебинспектора').click()\n",
    "\n",
    "# если не работает, пытайтесь разобраться в том, что мешает\n",
    "# например, надо переключаться на другую страницу, что-то пролистать, нажать на кнопку \"показать больше\""
   ]
  }
 ],
 "metadata": {
  "kernelspec": {
   "display_name": "Python 3",
   "language": "python",
   "name": "python3"
  },
  "language_info": {
   "codemirror_mode": {
    "name": "ipython",
    "version": 3
   },
   "file_extension": ".py",
   "mimetype": "text/x-python",
   "name": "python",
   "nbconvert_exporter": "python",
   "pygments_lexer": "ipython3",
   "version": "3.8.3"
  }
 },
 "nbformat": 4,
 "nbformat_minor": 4
}
