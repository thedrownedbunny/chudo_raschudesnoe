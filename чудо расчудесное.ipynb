{
 "cells": [
  {
   "cell_type": "code",
   "execution_count": 1,
   "metadata": {},
   "outputs": [],
   "source": [
    "import pandas as pd"
   ]
  },
  {
   "cell_type": "code",
   "execution_count": 2,
   "metadata": {},
   "outputs": [],
   "source": [
    "pol = pd.DataFrame([[3,2,1], [1,2,3], [3,4,5]], index=['russia', 'china','usa'])\n",
    "soc = pd.DataFrame([[1,2,3], [3,2,1], [5,4,3]], index=['russia', 'china','usa'])"
   ]
  },
  {
   "cell_type": "code",
   "execution_count": 35,
   "metadata": {},
   "outputs": [],
   "source": [
    "def our_chudo():\n",
    "    data = pd.DataFrame()\n",
    "    a = pd.DataFrame()\n",
    "    direc = ''\n",
    "    report = f''\n",
    "    z = 0\n",
    "    \n",
    "    sphere = input('Выберите сферу (1 - политическая, 2 - экономико-социальная): ')\n",
    "    \n",
    "    while z != 1:\n",
    "        if sphere == '1':\n",
    "            a = pol\n",
    "        elif sphere == '2':\n",
    "            a = soc\n",
    "        else:\n",
    "            print('Сфера не найдена.')\n",
    "            break\n",
    "    \n",
    "        countries = input('Введите желаемые страны через запятую. Если хотите получить датафрейм полностью, введите 1: ').split(', ')\n",
    "\n",
    "        try:\n",
    "            if '1' not in countries:\n",
    "                data = a.loc[countries,:]\n",
    "            else:\n",
    "                data = a\n",
    "        except KeyError:\n",
    "            print('Введено некорректное значение.')\n",
    "            break\n",
    "\n",
    "        form = input('Выберите желаемый формат вывода (1 - отчет, 2 - таблица): ')\n",
    "        if form == '2':\n",
    "            excel = input('Хотите сохранить таблицу себе на компьютер? (1 - да, 2 - нет): ')\n",
    "            if excel == '1':\n",
    "                direc = input('Введите путь к файлу: ')\n",
    "                a.to_excel()\n",
    "            print(data)\n",
    "            break\n",
    "        else:\n",
    "            print(report)\n",
    "            break"
   ]
  },
  {
   "cell_type": "code",
   "execution_count": 34,
   "metadata": {},
   "outputs": [
    {
     "name": "stdout",
     "output_type": "stream",
     "text": [
      "Выберите сферу (1 - политическая, 2 - экономико-социальная): 2\n",
      "Введите желаемые страны через запятую. Если хотите получить датафрейм полностью, введите 1: 1\n",
      "Выберите желаемый формат вывода (1 - отчет, 2 - таблица): 2\n",
      "Хотите сохранить таблицу себе на компьютер? (1 - да, 2 - нет): 2\n",
      "        0  1  2\n",
      "russia  1  2  3\n",
      "china   3  2  1\n",
      "usa     5  4  3\n"
     ]
    }
   ],
   "source": [
    "our_chudo()"
   ]
  }
 ],
 "metadata": {
  "kernelspec": {
   "display_name": "Python 3",
   "language": "python",
   "name": "python3"
  },
  "language_info": {
   "codemirror_mode": {
    "name": "ipython",
    "version": 3
   },
   "file_extension": ".py",
   "mimetype": "text/x-python",
   "name": "python",
   "nbconvert_exporter": "python",
   "pygments_lexer": "ipython3",
   "version": "3.8.3"
  }
 },
 "nbformat": 4,
 "nbformat_minor": 4
}
